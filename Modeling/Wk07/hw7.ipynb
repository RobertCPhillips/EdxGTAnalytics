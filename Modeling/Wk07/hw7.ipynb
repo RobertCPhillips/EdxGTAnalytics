{
 "cells": [
  {
   "cell_type": "markdown",
   "metadata": {},
   "source": [
    "# GT Introduction to Analytics Modeling - Week 7 HW\n",
    "\n",
    "As directed in the assignment, we'll use the Pulp library to create a linear program to optimize the diet.  We'll also use other data manipulation libraries to help load the spreadsheet and prepare the data.  Note that some manual manipulation of the spreadsheet was performed outside of this notebook.  For example, a numeric column was created for serving size.\n",
    "\n",
    "We'll first load the libraries we'll be using."
   ]
  },
  {
   "cell_type": "code",
   "execution_count": 2,
   "metadata": {
    "collapsed": true
   },
   "outputs": [],
   "source": [
    "import pulp as pp\n",
    "import pandas as pd"
   ]
  },
  {
   "cell_type": "markdown",
   "metadata": {},
   "source": [
    "We'll use pandas to load our spreadsheet.  Note that I manually saved it as a CSV file, changed the Serving Size column to be numeric, and removed special characters from the food names and column names."
   ]
  },
  {
   "cell_type": "code",
   "execution_count": 3,
   "metadata": {},
   "outputs": [
    {
     "data": {
      "text/html": [
       "<div>\n",
       "<style>\n",
       "    .dataframe thead tr:only-child th {\n",
       "        text-align: right;\n",
       "    }\n",
       "\n",
       "    .dataframe thead th {\n",
       "        text-align: left;\n",
       "    }\n",
       "\n",
       "    .dataframe tbody tr th {\n",
       "        vertical-align: top;\n",
       "    }\n",
       "</style>\n",
       "<table border=\"1\" class=\"dataframe\">\n",
       "  <thead>\n",
       "    <tr style=\"text-align: right;\">\n",
       "      <th></th>\n",
       "      <th>Price Per Serving</th>\n",
       "      <th>Serving Size</th>\n",
       "      <th>Calories</th>\n",
       "      <th>Cholesterol mg</th>\n",
       "      <th>Total Fat g</th>\n",
       "      <th>Sodium mg</th>\n",
       "      <th>Carbohydrates g</th>\n",
       "      <th>Dietary Fiber g</th>\n",
       "      <th>Protein g</th>\n",
       "      <th>Vitamin A IU</th>\n",
       "      <th>Vitamin C IU</th>\n",
       "      <th>Calcium mg</th>\n",
       "      <th>Iron mg</th>\n",
       "    </tr>\n",
       "    <tr>\n",
       "      <th>Foods</th>\n",
       "      <th></th>\n",
       "      <th></th>\n",
       "      <th></th>\n",
       "      <th></th>\n",
       "      <th></th>\n",
       "      <th></th>\n",
       "      <th></th>\n",
       "      <th></th>\n",
       "      <th></th>\n",
       "      <th></th>\n",
       "      <th></th>\n",
       "      <th></th>\n",
       "      <th></th>\n",
       "    </tr>\n",
       "  </thead>\n",
       "  <tbody>\n",
       "    <tr>\n",
       "      <th>Frozen Broccoli</th>\n",
       "      <td>0.16</td>\n",
       "      <td>10.0</td>\n",
       "      <td>73.8</td>\n",
       "      <td>0.0</td>\n",
       "      <td>0.8</td>\n",
       "      <td>68.2</td>\n",
       "      <td>13.6</td>\n",
       "      <td>8.5</td>\n",
       "      <td>8.0</td>\n",
       "      <td>5867.4</td>\n",
       "      <td>160.2</td>\n",
       "      <td>159.0</td>\n",
       "      <td>2.3</td>\n",
       "    </tr>\n",
       "    <tr>\n",
       "      <th>Carrots Raw</th>\n",
       "      <td>0.07</td>\n",
       "      <td>0.5</td>\n",
       "      <td>23.7</td>\n",
       "      <td>0.0</td>\n",
       "      <td>0.1</td>\n",
       "      <td>19.2</td>\n",
       "      <td>5.6</td>\n",
       "      <td>1.6</td>\n",
       "      <td>0.6</td>\n",
       "      <td>15471.0</td>\n",
       "      <td>5.1</td>\n",
       "      <td>14.9</td>\n",
       "      <td>0.3</td>\n",
       "    </tr>\n",
       "    <tr>\n",
       "      <th>Celery Raw</th>\n",
       "      <td>0.04</td>\n",
       "      <td>1.0</td>\n",
       "      <td>6.4</td>\n",
       "      <td>0.0</td>\n",
       "      <td>0.1</td>\n",
       "      <td>34.8</td>\n",
       "      <td>1.5</td>\n",
       "      <td>0.7</td>\n",
       "      <td>0.3</td>\n",
       "      <td>53.6</td>\n",
       "      <td>2.8</td>\n",
       "      <td>16.0</td>\n",
       "      <td>0.2</td>\n",
       "    </tr>\n",
       "    <tr>\n",
       "      <th>Frozen Corn</th>\n",
       "      <td>0.18</td>\n",
       "      <td>0.5</td>\n",
       "      <td>72.2</td>\n",
       "      <td>0.0</td>\n",
       "      <td>0.6</td>\n",
       "      <td>2.5</td>\n",
       "      <td>17.1</td>\n",
       "      <td>2.0</td>\n",
       "      <td>2.5</td>\n",
       "      <td>106.6</td>\n",
       "      <td>5.2</td>\n",
       "      <td>3.3</td>\n",
       "      <td>0.3</td>\n",
       "    </tr>\n",
       "    <tr>\n",
       "      <th>Lettuce Iceberg Raw</th>\n",
       "      <td>0.02</td>\n",
       "      <td>1.0</td>\n",
       "      <td>2.6</td>\n",
       "      <td>0.0</td>\n",
       "      <td>0.0</td>\n",
       "      <td>1.8</td>\n",
       "      <td>0.4</td>\n",
       "      <td>0.3</td>\n",
       "      <td>0.2</td>\n",
       "      <td>66.0</td>\n",
       "      <td>0.8</td>\n",
       "      <td>3.8</td>\n",
       "      <td>0.1</td>\n",
       "    </tr>\n",
       "  </tbody>\n",
       "</table>\n",
       "</div>"
      ],
      "text/plain": [
       "                     Price Per Serving  Serving Size  Calories  \\\n",
       "Foods                                                            \n",
       "Frozen Broccoli                   0.16          10.0      73.8   \n",
       "Carrots Raw                       0.07           0.5      23.7   \n",
       "Celery Raw                        0.04           1.0       6.4   \n",
       "Frozen Corn                       0.18           0.5      72.2   \n",
       "Lettuce Iceberg Raw               0.02           1.0       2.6   \n",
       "\n",
       "                     Cholesterol mg  Total Fat g  Sodium mg  Carbohydrates g  \\\n",
       "Foods                                                                          \n",
       "Frozen Broccoli                 0.0          0.8       68.2             13.6   \n",
       "Carrots Raw                     0.0          0.1       19.2              5.6   \n",
       "Celery Raw                      0.0          0.1       34.8              1.5   \n",
       "Frozen Corn                     0.0          0.6        2.5             17.1   \n",
       "Lettuce Iceberg Raw             0.0          0.0        1.8              0.4   \n",
       "\n",
       "                     Dietary Fiber g  Protein g  Vitamin A IU  Vitamin C IU  \\\n",
       "Foods                                                                         \n",
       "Frozen Broccoli                  8.5        8.0        5867.4         160.2   \n",
       "Carrots Raw                      1.6        0.6       15471.0           5.1   \n",
       "Celery Raw                       0.7        0.3          53.6           2.8   \n",
       "Frozen Corn                      2.0        2.5         106.6           5.2   \n",
       "Lettuce Iceberg Raw              0.3        0.2          66.0           0.8   \n",
       "\n",
       "                     Calcium mg  Iron mg  \n",
       "Foods                                     \n",
       "Frozen Broccoli           159.0      2.3  \n",
       "Carrots Raw                14.9      0.3  \n",
       "Celery Raw                 16.0      0.2  \n",
       "Frozen Corn                 3.3      0.3  \n",
       "Lettuce Iceberg Raw         3.8      0.1  "
      ]
     },
     "execution_count": 3,
     "metadata": {},
     "output_type": "execute_result"
    }
   ],
   "source": [
    "data = pd.read_csv(\"diet.csv\", index_col=0)\n",
    "data.head()"
   ]
  },
  {
   "cell_type": "markdown",
   "metadata": {},
   "source": [
    "### Constraints\n",
    "For question 1, our constraints are as follows:\n",
    "1. Minimum daily intake values 1500 30 20 800 130 125 60 1000 400 700 10.  We'll use the variable $x_j$ to represent the lower bound for attribute $j$.\n",
    "2. Maximum daily intake values 2500 240 70 2000 450 250 100 10000 5000 1500 40. We'll use the variable $y_j$ to represent the upper bound for attribute $j$.\n",
    "\n",
    "For question 2, we add the following constraints.\n",
    "1. If a food is selected, then a minimum of 1/10 serving must be chosen.\n",
    "2. Many people dislike celery and frozen broccoli. So at most one, but not both, can be selected.\n",
    "3. To get day-to-day variety in protein, at least 3 kinds of meat/poultry/fish/eggs must be selected."
   ]
  },
  {
   "cell_type": "markdown",
   "metadata": {},
   "source": [
    "### Question 1 Variables\n",
    "We'll need a numeric variable for each food to indicate the serving size.  The variable $s_i$ reprsents the serving size of food $i$.  These will be used to solve the constraints as follows:\n",
    "\n",
    "1. The cumulative sum of the product of each food's serving size and nutrition attribute (e.g calories) must be greater than or equal to the corresponding nutritional constraint.  This gives the equation $\\sum s_i \\times a_{ij} \\ge x_j$ where $a_{ij}$ represents nutritional attribute $j$ for food $i$, and $x_j$ represents the lower bound nutritional constraint for attribute $j$.\n",
    "2. The cumulative sum of the product of each food's serving size and nutrition attribute (e.g calories) must be less than or equal to the corresponding nutritional constraint.  This gives the equation $\\sum s_i \\times a_{ij} \\le y_j$ where $a_{ij}$ represents nutritional attribute $j$ for food $i$, and $y_j$ represents the upper bound nutritional constraint for attribute $j$."
   ]
  },
  {
   "cell_type": "markdown",
   "metadata": {},
   "source": [
    "### Question 1 Objective Function\n",
    "The objective function is to minimize the cumulative sum of the product of each food's serving size and cost. This yields the following equation which we will minimize:\n",
    "\n",
    "$\\sum s_i \\times c_i$ where $c_i$ is the cost per serving of food $i$."
   ]
  },
  {
   "cell_type": "markdown",
   "metadata": {},
   "source": [
    "### Data Setup\n",
    "Pulp uses dictionaries to represent the data to be applied to the constraints.  The following code snippets extract the dictionaries from our pandas dataframe.  We extract the column names for all relavent data, and we also create a list of names the specfically represent nutritional values.  With the list of names, we can create all of the necessary dictionaries."
   ]
  },
  {
   "cell_type": "code",
   "execution_count": 5,
   "metadata": {},
   "outputs": [
    {
     "name": "stdout",
     "output_type": "stream",
     "text": [
      "Foods:  ['Frozen Broccoli', 'Carrots Raw', 'Celery Raw', 'Frozen Corn', 'Lettuce Iceberg Raw', 'Peppers Sweet Raw', 'Potatoes Baked', 'Tofu', 'Roasted Chicken', 'Spaghetti W Sauce', 'Tomato Red Ripe Raw', 'Apple Raw W Skin', 'Banana', 'Grapes', 'Kiwifruit Raw Fresh', 'Oranges', 'Bagels', 'Wheat Bread', 'White Bread', 'Oatmeal Cookies', 'Apple Pie', 'Chocolate Chip Cookies', 'Butter Regular', 'Cheddar Cheese', 'Fat Whole Milk', 'Lowfat Milk', 'Skim Milk', 'Poached Eggs', 'Scrambled Eggs', 'Bologna Turkey', 'Frankfurter Beef', 'Ham Sliced Extralean', 'Kielbasa Prk', 'Cap Crunch', 'Cheerios', 'Corn Flks Kelloggs', 'Raisin Bran Kelloggs', 'Rice Krispies', 'Special K', 'Oatmeal', 'Malt-O-Meal Choc', 'Pizza W Pepperoni', 'Taco', 'Hamburger W Toppings', 'Hotdog Plain', 'Couscous', 'White Rice', 'Macaroni Ckd', 'Peanut Butter', 'Pork', 'Sardines in Oil', 'White Tuna in Water', 'Popcorn Air-Popped', 'Potato Chips Bbqflvr', 'Pretzels', 'Tortilla Chip', 'Chicknoodl Soup', 'Splt Pea Hamsoup', 'Vegetbeef Soup', 'Neweng Clamchwd', 'Tomato Soup', 'New E Clamchwd', 'Crm Mshrm Soup', 'Beanbacn Soup']\n",
      "\n",
      "Column Names:  ['Price Per Serving', 'Serving Size', 'Calories', 'Cholesterol mg', 'Total Fat g', 'Sodium mg', 'Carbohydrates g', 'Dietary Fiber g', 'Protein g', 'Vitamin A IU', 'Vitamin C IU', 'Calcium mg', 'Iron mg']\n",
      "\n",
      "Nutrition Names ['Calories', 'Cholesterol mg', 'Total Fat g', 'Sodium mg', 'Carbohydrates g', 'Dietary Fiber g', 'Protein g', 'Vitamin A IU', 'Vitamin C IU', 'Calcium mg', 'Iron mg']\n",
      "\n",
      "Maximum Intakes {'Vitamin A IU': 10000.0, 'Vitamin C IU': 5000.0, 'Calories': 2500.0, 'Cholesterol mg': 240.0, 'Dietary Fiber g': 250.0, 'Protein g': 100.0, 'Carbohydrates g': 450.0, 'Iron mg': 40.0, 'Total Fat g': 70.0, 'Sodium mg': 2000.0, 'Calcium mg': 1500.0}\n",
      "\n",
      "Minimum Intakes {'Vitamin A IU': 1000.0, 'Vitamin C IU': 400.0, 'Calories': 1500.0, 'Cholesterol mg': 30.0, 'Dietary Fiber g': 125.0, 'Protein g': 60.0, 'Carbohydrates g': 130.0, 'Iron mg': 10.0, 'Total Fat g': 20.0, 'Sodium mg': 800.0, 'Calcium mg': 700.0}\n",
      "\n",
      "Proteins:  ['Roasted Chicken', 'Poached Eggs', 'Scrambled Eggs', 'Bologna Turkey', 'Frankfurter Beef', 'Ham Sliced Extralean', 'Kielbasa Prk', 'Taco', 'Hamburger W Toppings', 'Hotdog Plain', 'Pork', 'Sardines in Oil', 'White Tuna in Water', 'Chicknoodl Soup', 'Vegetbeef Soup', 'Neweng Clamchwd', 'New E Clamchwd']\n"
     ]
    }
   ],
   "source": [
    "#our food names\n",
    "foods = data.index.tolist()\n",
    "print(\"Foods: \", foods)\n",
    "print()\n",
    "\n",
    "#our column names\n",
    "names = data.columns.tolist()\n",
    "\n",
    "#extract nutrition names\n",
    "nutrition = [i for i in names if i not in ['Price Per Serving','Serving Size']]\n",
    "\n",
    "print(\"Column Names: \", names)\n",
    "print()\n",
    "print(\"Nutrition Names\", nutrition) \n",
    "\n",
    "#create all of the dictionaries we'll need\n",
    "dataDict = {k:data[k].to_dict() for k in names}\n",
    "#print(dataDict)\n",
    "\n",
    "#Minimum daily intake constraints 1500 30 20 800 130 125 60 1000 400 700 10\n",
    "minvalues = [1500.0, 30.0, 20.0, 800.0, 130.0, 125.0, 60.0, 1000.0, 400.0, 700.0, 10.0]\n",
    "minNutrition = {k:v for k,v in zip(nutrition, minvalues)}\n",
    "\n",
    "#Maximum daily intake constraints 2500 240 70 2000 450 250 100 10000 5000 1500 40\n",
    "maxvalues = [2500.0, 240.0, 70.0, 2000.0, 450.0, 250.0, 100.0, 10000.0, 5000.0, 1500.0, 40.0]\n",
    "maxNutrition = {k:v for k,v in zip(nutrition, maxvalues)}\n",
    "\n",
    "print()\n",
    "print(\"Maximum Intakes\", maxNutrition)\n",
    "print()\n",
    "print(\"Minimum Intakes\", minNutrition)\n",
    "\n",
    "proteins = ['Roasted Chicken', 'Poached Eggs', 'Scrambled Eggs', 'Bologna Turkey', 'Frankfurter Beef', \n",
    "            'Ham Sliced Extralean', 'Kielbasa Prk', 'Taco', 'Hamburger W Toppings', 'Hotdog Plain', 'Pork', \n",
    "            'Sardines in Oil', 'White Tuna in Water', 'Chicknoodl Soup', 'Vegetbeef Soup', 'Neweng Clamchwd', \n",
    "            'New E Clamchwd']\n",
    "\n",
    "print()\n",
    "print(\"Proteins: \", proteins)"
   ]
  },
  {
   "cell_type": "markdown",
   "metadata": {},
   "source": [
    "### Question 1 Pulp Model Setup\n",
    "Now that we have our relevant data dictionaries, we can setup our Pulp model and the constraints.\n"
   ]
  },
  {
   "cell_type": "code",
   "execution_count": 6,
   "metadata": {
    "collapsed": true
   },
   "outputs": [],
   "source": [
    "modelq1 = pp.LpProblem(\"The Diet Problem Q1\", pp.LpMinimize)\n",
    "\n",
    "# setup our decision variable for serviing size\n",
    "s_vars = pp.LpVariable.dicts(\"s\", foods, 0, None, pp.LpContinuous)\n",
    "\n",
    "# add the objective function to the model\n",
    "modelq1 += pp.lpSum([dataDict['Price Per Serving'][i] * s_vars[i] for i in foods]), \"Total Cost Diet Q1\"\n",
    "\n",
    "#Constraint 1 - minimum intake\n",
    "for n in nutrition:\n",
    "    modelq1 += pp.lpSum([dataDict[n][i] * s_vars[i]  for i in foods]) >= minNutrition[n], \"Min\"+n+\"Req\"\n",
    "\n",
    "#Constraint 2 - maximum intake\n",
    "for n in nutrition:\n",
    "    modelq1 += pp.lpSum([dataDict[n][i] * s_vars[i] for i in foods]) <= maxNutrition[n], \"Max\"+n+\"Req\"\n"
   ]
  },
  {
   "cell_type": "markdown",
   "metadata": {},
   "source": [
    "### Question 1 Pulp Model Solution\n",
    "With our object function defined and our constraints setup, we can now solve the model for question 1 and output the results."
   ]
  },
  {
   "cell_type": "code",
   "execution_count": 25,
   "metadata": {},
   "outputs": [
    {
     "name": "stdout",
     "output_type": "stream",
     "text": [
      "Serving Size of Celery_Raw = 52.64371\n",
      "Serving Size of Frozen_Broccoli = 0.25960653\n",
      "Serving Size of Lettuce_Iceberg_Raw = 63.988506\n",
      "Serving Size of Oranges = 2.2929389\n",
      "Serving Size of Poached_Eggs = 0.14184397\n",
      "Serving Size of Popcorn_Air_Popped = 13.869322\n",
      "\n",
      "Total Cost of Diet =  4.337116797399999\n"
     ]
    }
   ],
   "source": [
    "# The problem is solved using PuLP's choice of Solver\n",
    "modelq1.solve()\n",
    "\n",
    "# Each of the variables is printed with it's resolved optimum value\n",
    "for v in modelq1.variables():\n",
    "    if v.varValue > 0.0:\n",
    "        print(\"Serving Size of\", v.name[2:], \"=\", v.varValue) \n",
    "\n",
    "# The optimised objective function value is printed to the screen\n",
    "print(\"\\nTotal Cost of Diet = \", pp.value(modelq1.objective))"
   ]
  },
  {
   "cell_type": "markdown",
   "metadata": {},
   "source": [
    "### Question 2 Variables"
   ]
  },
  {
   "cell_type": "markdown",
   "metadata": {},
   "source": [
    "We'll need a binary variable for each food to indicate whether or not we select that food in our model.  The variable $f_i = 1$ indicates that we selected food $i$. As before, we'll also need a numeric variable for each food to indicate the serving size.  The variable $s_i$ reprsents the serving size of food $i$.  These will be used to solve the constraints as follows:\n",
    "\n",
    "1. As with question 1, the cumulative sum of the product of each food's serving size and nutrition attribute (e.g calories) must be greater than or equal to the corresponding nutritional constraint.  This gives the equation $\\sum s_i \\times a_{ij} \\ge x_j$ where $a_{ij}$ represents nutritional attribute $j$ for food $i$, and $x_j$ represents the lower bound nutritional constraint for attribute $j$.\n",
    "2. As with question 1, the cumulative sum of the product of each food's serving size and nutrition attribute (e.g calories) must be less than or equal to the corresponding nutritional constraint.  This gives the equation $\\sum s_i \\times a_{ij} \\le y_j$ where $a_{ij}$ represents nutritional attribute $j$ for food $i$, and $y_j$ represents the upper bound nutritional constraint for attribute $j$.\n",
    "3. To constrain our minimum serving size if selected, we'll require that serving size have a lower and upper bound.  This constraint incorporates our binary variable ($f_i$).  We'll also use the __Big M__ technqiue to set an upper bound.  This yields the constraint $.1 \\times f_i \\le s_i \\le M \\times f_i$. As for the value of __M__, it's needs to be large enough that it is considered a redundent constraint and therefore does not falsely impose a constraint.  Since we already have an upper bound serving sizes due to maximum nutrition constaints, we can set M to a serving size that would exceed this constraints.  For this exercise we'll arbitrarily use the calories attribute.\n",
    "4. The sum of the binary variable for celery and frozen broccoli must be less than or equal to 1. This constraint yields the equation $f_a + f_b \\le 1$ where $a, b \\in (celery, frozen broccoli)$.\n",
    "5. The sum of the binary variables that correspond to meat/poultry/fish/eggs must be greater than or equal to 3. This constraint yields the equation $\\sum f_a \\ge 3$ where $a \\in (meat/poultry/fish/eggs)$."
   ]
  },
  {
   "cell_type": "markdown",
   "metadata": {},
   "source": [
    "### Question 2 Big M"
   ]
  },
  {
   "cell_type": "code",
   "execution_count": 11,
   "metadata": {},
   "outputs": [
    {
     "name": "stdout",
     "output_type": "stream",
     "text": [
      "961.538461538\n"
     ]
    }
   ],
   "source": [
    "minCalories = data[data['Calories'] > 0.0]['Calories'].min()\n",
    "M = maxNutrition['Calories'] / minCalories #this is the maximum serving size for any food.\n",
    "print(M)"
   ]
  },
  {
   "cell_type": "markdown",
   "metadata": {},
   "source": [
    "### Question 2 Pulp Model Setup"
   ]
  },
  {
   "cell_type": "code",
   "execution_count": 15,
   "metadata": {},
   "outputs": [],
   "source": [
    "modelq2 = pp.LpProblem(\"The Diet Problem Q2\", pp.LpMinimize)\n",
    "\n",
    "# setup our decision variable for food selection and serving size\n",
    "f_vars = pp.LpVariable.dicts(\"f\", foods, 0, 1, pp.LpInteger)\n",
    "s_vars = pp.LpVariable.dicts(\"s\", foods, 0, None, pp.LpContinuous)\n",
    "\n",
    "# add the objective function to the model\n",
    "modelq2 += pp.lpSum([dataDict['Price Per Serving'][i] * s_vars[i] for i in foods]), \"Total Cost Diet Q2\"\n",
    "\n",
    "#Constraint 1 - minimum intake\n",
    "for n in nutrition:\n",
    "    modelq2 += pp.lpSum([dataDict[n][i] * s_vars[i]  for i in foods]) >= minNutrition[n], \"Min\"+n+\"Req\"\n",
    "\n",
    "#Constraint 2 - maximum intake\n",
    "for n in nutrition:\n",
    "    modelq2 += pp.lpSum([dataDict[n][i] * s_vars[i] for i in foods]) <= maxNutrition[n], \"Max\"+n+\"Req\"\n",
    "    \n",
    "#Constraint 3 - minimum serving size, if selected\n",
    "for i in foods:\n",
    "    modelq2 += s_vars[i] >= .1 * f_vars[i], i+\" Min if selected\"\n",
    "    modelq2 += s_vars[i] <= M * f_vars[i], i+\" Max if selected\"\n",
    "\n",
    "#Constraint 4 - not both broccoli and celery\n",
    "modelq2 += pp.lpSum([f_vars[i] for i in ['Celery Raw', 'Frozen Broccoli']]) <= 1, \"Broccoli or Celery Req\"\n",
    "\n",
    "#Constraint 5 - Mimimum 3 proteins\n",
    "modelq2 += pp.lpSum([f_vars[i] for i in proteins]) >= 3, \"Protiens Req\""
   ]
  },
  {
   "cell_type": "markdown",
   "metadata": {},
   "source": [
    "### Question 2 Pulp Model Solution\n",
    "With our object function defined and our constraints setup, we can now solve the model for question 2 and output the results."
   ]
  },
  {
   "cell_type": "code",
   "execution_count": 24,
   "metadata": {},
   "outputs": [
    {
     "name": "stdout",
     "output_type": "stream",
     "text": [
      "Serving Size of Celery_Raw = 42.399358\n",
      "Serving Size of Kielbasa_Prk = 0.1\n",
      "Serving Size of Lettuce_Iceberg_Raw = 82.802586\n",
      "Serving Size of Oranges = 3.0771841\n",
      "Serving Size of Peanut_Butter = 1.9429716\n",
      "Serving Size of Poached_Eggs = 0.1\n",
      "Serving Size of Popcorn_Air_Popped = 13.223294\n",
      "Serving Size of Scrambled_Eggs = 0.1\n",
      "\n",
      "Total Cost of Diet =  4.512543427000001\n"
     ]
    }
   ],
   "source": [
    "# The problem is solved using PuLP's choice of Solver\n",
    "modelq2.solve()\n",
    "\n",
    "# Each of the variables is printed with it's resolved optimum value\n",
    "for v in modelq2.variables():\n",
    "    if v.varValue > 0.0 and v.name.startswith('s'):\n",
    "        print(\"Serving Size of\", v.name[2:], \"=\", v.varValue) \n",
    "\n",
    "# The optimised objective function value is printed to the screen\n",
    "print(\"\\nTotal Cost of Diet = \", pp.value(modelq2.objective))"
   ]
  }
 ],
 "metadata": {
  "anaconda-cloud": {},
  "kernelspec": {
   "display_name": "Python [conda root]",
   "language": "python",
   "name": "conda-root-py"
  },
  "language_info": {
   "codemirror_mode": {
    "name": "ipython",
    "version": 3
   },
   "file_extension": ".py",
   "mimetype": "text/x-python",
   "name": "python",
   "nbconvert_exporter": "python",
   "pygments_lexer": "ipython3",
   "version": "3.5.3"
  }
 },
 "nbformat": 4,
 "nbformat_minor": 2
}
